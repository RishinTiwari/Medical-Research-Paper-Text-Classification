{
 "cells": [
  {
   "cell_type": "code",
   "execution_count": 41,
   "id": "a6cc515b-08d5-4593-b36c-b79106d6d01f",
   "metadata": {},
   "outputs": [],
   "source": [
    "import numpy as np \n",
    "import pandas as pd\n",
    "import matplotlib.pyplot as plt\n",
    "import nltk\n",
    "import nltk\n",
    "#nltk.download('stopwords')\n",
    "from sklearn.model_selection import train_test_split\n",
    "from sklearn import preprocessing #for preprocessing text data\n",
    "from sklearn.feature_extraction.text import TfidfVectorizer #TfidfVectorizer (which includes pre-processing, tokenization, and filtering out stop words)\n",
    "from nltk.corpus import stopwords\n",
    "from nltk.tokenize import word_tokenize\n",
    "from nltk.stem import WordNetLemmatizer\n",
    "from sklearn.decomposition import TruncatedSVD\n",
    "from string import punctuation"
   ]
  },
  {
   "cell_type": "code",
   "execution_count": 42,
   "id": "53a0c215-d17d-4ff3-95d8-f10807837b00",
   "metadata": {
    "scrolled": true
   },
   "outputs": [
    {
     "data": {
      "text/html": [
       "<div>\n",
       "<style scoped>\n",
       "    .dataframe tbody tr th:only-of-type {\n",
       "        vertical-align: middle;\n",
       "    }\n",
       "\n",
       "    .dataframe tbody tr th {\n",
       "        vertical-align: top;\n",
       "    }\n",
       "\n",
       "    .dataframe thead th {\n",
       "        text-align: right;\n",
       "    }\n",
       "</style>\n",
       "<table border=\"1\" class=\"dataframe\">\n",
       "  <thead>\n",
       "    <tr style=\"text-align: right;\">\n",
       "      <th></th>\n",
       "      <th>Unnamed: 0</th>\n",
       "      <th>0</th>\n",
       "      <th>a</th>\n",
       "    </tr>\n",
       "  </thead>\n",
       "  <tbody>\n",
       "    <tr>\n",
       "      <th>0</th>\n",
       "      <td>0</td>\n",
       "      <td>Thyroid_Cancer</td>\n",
       "      <td>Thyroid surgery in  children in a single insti...</td>\n",
       "    </tr>\n",
       "    <tr>\n",
       "      <th>1</th>\n",
       "      <td>1</td>\n",
       "      <td>Thyroid_Cancer</td>\n",
       "      <td>\" The adopted strategy was the same as that us...</td>\n",
       "    </tr>\n",
       "    <tr>\n",
       "      <th>2</th>\n",
       "      <td>2</td>\n",
       "      <td>Thyroid_Cancer</td>\n",
       "      <td>coronary arterybypass grafting thrombosis ï¬b...</td>\n",
       "    </tr>\n",
       "    <tr>\n",
       "      <th>3</th>\n",
       "      <td>3</td>\n",
       "      <td>Thyroid_Cancer</td>\n",
       "      <td>Solitary plasmacytoma SP of the skull is an u...</td>\n",
       "    </tr>\n",
       "    <tr>\n",
       "      <th>4</th>\n",
       "      <td>4</td>\n",
       "      <td>Thyroid_Cancer</td>\n",
       "      <td>This study aimed to investigate serum matrix ...</td>\n",
       "    </tr>\n",
       "  </tbody>\n",
       "</table>\n",
       "</div>"
      ],
      "text/plain": [
       "   Unnamed: 0               0  \\\n",
       "0           0  Thyroid_Cancer   \n",
       "1           1  Thyroid_Cancer   \n",
       "2           2  Thyroid_Cancer   \n",
       "3           3  Thyroid_Cancer   \n",
       "4           4  Thyroid_Cancer   \n",
       "\n",
       "                                                   a  \n",
       "0  Thyroid surgery in  children in a single insti...  \n",
       "1  \" The adopted strategy was the same as that us...  \n",
       "2  coronary arterybypass grafting thrombosis ï¬b...  \n",
       "3   Solitary plasmacytoma SP of the skull is an u...  \n",
       "4   This study aimed to investigate serum matrix ...  "
      ]
     },
     "execution_count": 42,
     "metadata": {},
     "output_type": "execute_result"
    }
   ],
   "source": [
    "df = pd.read_csv(\"Cancer_Dataset.csv\", encoding='latin1')\n",
    "df.head()"
   ]
  },
  {
   "cell_type": "code",
   "execution_count": 43,
   "id": "d6f06092-943b-4f26-83e3-246ad1f3feb9",
   "metadata": {
    "scrolled": true
   },
   "outputs": [
    {
     "data": {
      "text/html": [
       "<div>\n",
       "<style scoped>\n",
       "    .dataframe tbody tr th:only-of-type {\n",
       "        vertical-align: middle;\n",
       "    }\n",
       "\n",
       "    .dataframe tbody tr th {\n",
       "        vertical-align: top;\n",
       "    }\n",
       "\n",
       "    .dataframe thead th {\n",
       "        text-align: right;\n",
       "    }\n",
       "</style>\n",
       "<table border=\"1\" class=\"dataframe\">\n",
       "  <thead>\n",
       "    <tr style=\"text-align: right;\">\n",
       "      <th></th>\n",
       "      <th>Class_Labels</th>\n",
       "      <th>Research_Paper_Text</th>\n",
       "    </tr>\n",
       "  </thead>\n",
       "  <tbody>\n",
       "    <tr>\n",
       "      <th>0</th>\n",
       "      <td>Thyroid_Cancer</td>\n",
       "      <td>Thyroid surgery in  children in a single insti...</td>\n",
       "    </tr>\n",
       "    <tr>\n",
       "      <th>1</th>\n",
       "      <td>Thyroid_Cancer</td>\n",
       "      <td>\" The adopted strategy was the same as that us...</td>\n",
       "    </tr>\n",
       "    <tr>\n",
       "      <th>2</th>\n",
       "      <td>Thyroid_Cancer</td>\n",
       "      <td>coronary arterybypass grafting thrombosis ï¬b...</td>\n",
       "    </tr>\n",
       "    <tr>\n",
       "      <th>3</th>\n",
       "      <td>Thyroid_Cancer</td>\n",
       "      <td>Solitary plasmacytoma SP of the skull is an u...</td>\n",
       "    </tr>\n",
       "    <tr>\n",
       "      <th>4</th>\n",
       "      <td>Thyroid_Cancer</td>\n",
       "      <td>This study aimed to investigate serum matrix ...</td>\n",
       "    </tr>\n",
       "    <tr>\n",
       "      <th>...</th>\n",
       "      <td>...</td>\n",
       "      <td>...</td>\n",
       "    </tr>\n",
       "    <tr>\n",
       "      <th>7565</th>\n",
       "      <td>Colon_Cancer</td>\n",
       "      <td>we report the case of a 24yearold man who pres...</td>\n",
       "    </tr>\n",
       "    <tr>\n",
       "      <th>7566</th>\n",
       "      <td>Colon_Cancer</td>\n",
       "      <td>among synchronous colorectal cancers scrcs rep...</td>\n",
       "    </tr>\n",
       "    <tr>\n",
       "      <th>7567</th>\n",
       "      <td>Colon_Cancer</td>\n",
       "      <td>the heterogeneity of cancer cells is generally...</td>\n",
       "    </tr>\n",
       "    <tr>\n",
       "      <th>7568</th>\n",
       "      <td>Colon_Cancer</td>\n",
       "      <td>\"adipogenesis is the process through which mes...</td>\n",
       "    </tr>\n",
       "    <tr>\n",
       "      <th>7569</th>\n",
       "      <td>Colon_Cancer</td>\n",
       "      <td>the periparturient period is one of the most c...</td>\n",
       "    </tr>\n",
       "  </tbody>\n",
       "</table>\n",
       "<p>7570 rows × 2 columns</p>\n",
       "</div>"
      ],
      "text/plain": [
       "        Class_Labels                                Research_Paper_Text\n",
       "0     Thyroid_Cancer  Thyroid surgery in  children in a single insti...\n",
       "1     Thyroid_Cancer  \" The adopted strategy was the same as that us...\n",
       "2     Thyroid_Cancer  coronary arterybypass grafting thrombosis ï¬b...\n",
       "3     Thyroid_Cancer   Solitary plasmacytoma SP of the skull is an u...\n",
       "4     Thyroid_Cancer   This study aimed to investigate serum matrix ...\n",
       "...              ...                                                ...\n",
       "7565    Colon_Cancer  we report the case of a 24yearold man who pres...\n",
       "7566    Colon_Cancer  among synchronous colorectal cancers scrcs rep...\n",
       "7567    Colon_Cancer  the heterogeneity of cancer cells is generally...\n",
       "7568    Colon_Cancer  \"adipogenesis is the process through which mes...\n",
       "7569    Colon_Cancer  the periparturient period is one of the most c...\n",
       "\n",
       "[7570 rows x 2 columns]"
      ]
     },
     "execution_count": 43,
     "metadata": {},
     "output_type": "execute_result"
    }
   ],
   "source": [
    "#Dropping the irrelevant column\n",
    "df = df.drop('Unnamed: 0',axis=1)\n",
    "# Renaming the column names\n",
    "df.columns=['Class_Labels', 'Research_Paper_Text']\n",
    "df"
   ]
  },
  {
   "cell_type": "code",
   "execution_count": 44,
   "id": "b79b978c-ab06-4deb-9158-4071ce06947e",
   "metadata": {},
   "outputs": [],
   "source": [
    "#Dropping Null Values\n",
    "count = df['Class_Labels'].isna().sum()\n",
    "if  count > 0:\n",
    "    print(f'Found {count} null values in Class_Labels column')\n",
    "    #df['Class_Labels'].fillna('missing', inplace=True) # though we could do this, we will drop the rows instead - as there is no way to impute the text\n",
    "    df = df.dropna(subset=['Class_Labels'])"
   ]
  },
  {
   "cell_type": "code",
   "execution_count": 45,
   "id": "8afbf713-97ec-4d21-98d3-28d5334941fa",
   "metadata": {},
   "outputs": [],
   "source": [
    "#Dropping Null Values\n",
    "count = df['Research_Paper_Text'].isna().sum()\n",
    "if  count > 0:\n",
    "    print(f'Found {count} null values in Research_Paper_Text column')\n",
    "    #df['Research_Paper_Text'].fillna('missing', inplace=True) # though we could do this, we will drop the rows instead - as there is no way to impute the text\n",
    "    df = df.dropna(subset=['Research_Paper_Text'])"
   ]
  },
  {
   "cell_type": "code",
   "execution_count": 46,
   "id": "3352787f-5820-48d1-b071-32072ad796f5",
   "metadata": {},
   "outputs": [
    {
     "data": {
      "text/plain": [
       "array(['Thyroid_Cancer', 'Colon_Cancer', 'Lung_Cancer'], dtype=object)"
      ]
     },
     "execution_count": 46,
     "metadata": {},
     "output_type": "execute_result"
    }
   ],
   "source": [
    "df['Class_Labels'].unique()"
   ]
  },
  {
   "cell_type": "code",
   "execution_count": 47,
   "id": "e58f4fba-dfab-4d14-a23f-afda79653bfa",
   "metadata": {},
   "outputs": [
    {
     "data": {
      "text/plain": [
       "Thyroid_Cancer    2810\n",
       "Colon_Cancer      2580\n",
       "Lung_Cancer       2180\n",
       "Name: Class_Labels, dtype: int64"
      ]
     },
     "execution_count": 47,
     "metadata": {},
     "output_type": "execute_result"
    }
   ],
   "source": [
    "#checking data imbalance\n",
    "df['Class_Labels'].value_counts()"
   ]
  },
  {
   "cell_type": "code",
   "execution_count": 48,
   "id": "913e5abe-37dd-4117-a0c0-c5c6d268b5b5",
   "metadata": {},
   "outputs": [],
   "source": [
    "# Define stopwords list\n",
    "stopwords_list = set(stopwords.words('english'))\n",
    "\n",
    "# Initialize lemmatizer\n",
    "lemmatizer = WordNetLemmatizer()\n",
    "\n",
    "# Define function for text cleaning and lemmatization\n",
    "def preprocess_text(text):\n",
    "    # Tokenization\n",
    "    tokens = word_tokenize(text)\n",
    "    # Cleaning and lemmatization\n",
    "    clean_lemmatized_text = [lemmatizer.lemmatize(token.lower()) for token in tokens if (token.lower() not in punctuation) and (token.lower() not in stopwords_list) and (len(token) > 2) and token.isalpha()]\n",
    "    return \" \".join(clean_lemmatized_text)\n",
    "\n",
    "# Apply text preprocessing to the 'Research_Paper_Text' column\n",
    "df['Research_Paper_Text'] = df['Research_Paper_Text'].apply(preprocess_text)"
   ]
  },
  {
   "cell_type": "code",
   "execution_count": 49,
   "id": "5bf007f7-ca07-4fa9-bc8e-8f41609bcc70",
   "metadata": {},
   "outputs": [
    {
     "data": {
      "text/html": [
       "<div>\n",
       "<style scoped>\n",
       "    .dataframe tbody tr th:only-of-type {\n",
       "        vertical-align: middle;\n",
       "    }\n",
       "\n",
       "    .dataframe tbody tr th {\n",
       "        vertical-align: top;\n",
       "    }\n",
       "\n",
       "    .dataframe thead th {\n",
       "        text-align: right;\n",
       "    }\n",
       "</style>\n",
       "<table border=\"1\" class=\"dataframe\">\n",
       "  <thead>\n",
       "    <tr style=\"text-align: right;\">\n",
       "      <th></th>\n",
       "      <th>Class_Labels</th>\n",
       "      <th>Research_Paper_Text</th>\n",
       "    </tr>\n",
       "  </thead>\n",
       "  <tbody>\n",
       "    <tr>\n",
       "      <th>0</th>\n",
       "      <td>Thyroid_Cancer</td>\n",
       "      <td>thyroid surgery child single institution osama...</td>\n",
       "    </tr>\n",
       "    <tr>\n",
       "      <th>1</th>\n",
       "      <td>Thyroid_Cancer</td>\n",
       "      <td>adopted strategy used prior year based four ex...</td>\n",
       "    </tr>\n",
       "    <tr>\n",
       "      <th>2</th>\n",
       "      <td>Thyroid_Cancer</td>\n",
       "      <td>coronary arterybypass grafting thrombosis muta...</td>\n",
       "    </tr>\n",
       "    <tr>\n",
       "      <th>3</th>\n",
       "      <td>Thyroid_Cancer</td>\n",
       "      <td>solitary plasmacytoma skull uncommon clinical ...</td>\n",
       "    </tr>\n",
       "    <tr>\n",
       "      <th>4</th>\n",
       "      <td>Thyroid_Cancer</td>\n",
       "      <td>study aimed investigate serum matrix metallopr...</td>\n",
       "    </tr>\n",
       "  </tbody>\n",
       "</table>\n",
       "</div>"
      ],
      "text/plain": [
       "     Class_Labels                                Research_Paper_Text\n",
       "0  Thyroid_Cancer  thyroid surgery child single institution osama...\n",
       "1  Thyroid_Cancer  adopted strategy used prior year based four ex...\n",
       "2  Thyroid_Cancer  coronary arterybypass grafting thrombosis muta...\n",
       "3  Thyroid_Cancer  solitary plasmacytoma skull uncommon clinical ...\n",
       "4  Thyroid_Cancer  study aimed investigate serum matrix metallopr..."
      ]
     },
     "execution_count": 49,
     "metadata": {},
     "output_type": "execute_result"
    }
   ],
   "source": [
    "df.head()"
   ]
  },
  {
   "cell_type": "code",
   "execution_count": 50,
   "id": "b4db9ca3-6b0d-484e-b1f6-13417346d18b",
   "metadata": {},
   "outputs": [],
   "source": [
    "X = df['Research_Paper_Text']"
   ]
  },
  {
   "cell_type": "code",
   "execution_count": 51,
   "id": "8a76cb8e-ab8b-43f0-bc63-d0abfa790f8c",
   "metadata": {},
   "outputs": [],
   "source": [
    "y = df['Class_Labels']"
   ]
  },
  {
   "cell_type": "code",
   "execution_count": 52,
   "id": "61d33994-082c-4264-b904-e5dac3aba81a",
   "metadata": {},
   "outputs": [
    {
     "name": "stdout",
     "output_type": "stream",
     "text": [
      "[(0, 'Colon_Cancer'), (1, 'Lung_Cancer'), (2, 'Thyroid_Cancer')]\n"
     ]
    },
    {
     "data": {
      "text/plain": [
       "array([2, 2, 2, ..., 0, 0, 0])"
      ]
     },
     "execution_count": 52,
     "metadata": {},
     "output_type": "execute_result"
    }
   ],
   "source": [
    "le = preprocessing.LabelEncoder()\n",
    "le.fit(y)\n",
    "classes = list(enumerate(le.classes_))\n",
    "print(classes)\n",
    "y = le.transform(y)\n",
    "y"
   ]
  },
  {
   "cell_type": "code",
   "execution_count": 53,
   "id": "dc1c274d-9046-4b82-862f-46ded2bb60e7",
   "metadata": {},
   "outputs": [],
   "source": [
    "X_train, X_test, y_train, y_test = train_test_split(X, y, test_size=0.3)"
   ]
  },
  {
   "cell_type": "code",
   "execution_count": 54,
   "id": "d8aee252-3f7d-463a-a368-07e2aa2e3975",
   "metadata": {},
   "outputs": [
    {
     "data": {
      "text/plain": [
       "((5299,), (5299,))"
      ]
     },
     "execution_count": 54,
     "metadata": {},
     "output_type": "execute_result"
    }
   ],
   "source": [
    "X_train.shape, y_train.shape"
   ]
  },
  {
   "cell_type": "code",
   "execution_count": 55,
   "id": "c580f345-49a8-491f-836f-d4ea1b3aabf9",
   "metadata": {},
   "outputs": [
    {
     "data": {
      "text/plain": [
       "((2271,), (2271,))"
      ]
     },
     "execution_count": 55,
     "metadata": {},
     "output_type": "execute_result"
    }
   ],
   "source": [
    "X_test.shape, y_test.shape"
   ]
  },
  {
   "cell_type": "code",
   "execution_count": 56,
   "id": "b49ae110-90d4-4c24-8394-a90fbef370ed",
   "metadata": {},
   "outputs": [
    {
     "data": {
      "text/plain": [
       "array([2, 2, 0, ..., 1, 2, 2])"
      ]
     },
     "execution_count": 56,
     "metadata": {},
     "output_type": "execute_result"
    }
   ],
   "source": [
    "y_train"
   ]
  },
  {
   "cell_type": "markdown",
   "id": "80047503-a29b-40da-9890-1dd8c1bbd3ab",
   "metadata": {},
   "source": [
    "Sklearn: Text preparation\n",
    "For simplicity (and focus), we will not do any text cleaning or preprocessing. We will just use the raw text as input to the model. See the text mining data prep tutorial for more details on text cleaning and preprocessing.\n"
   ]
  },
  {
   "cell_type": "code",
   "execution_count": 57,
   "id": "8e07ede2-452e-4d70-a3df-95ee125ef901",
   "metadata": {},
   "outputs": [],
   "source": [
    "tfidf_vect = TfidfVectorizer() # see: https://scikit-learn.org/stable/modules/generated/sklearn.feature_extraction.text.TfidfVectorizer.html\n",
    "\n",
    "X_train = tfidf_vect.fit_transform(X_train)"
   ]
  },
  {
   "cell_type": "code",
   "execution_count": 58,
   "id": "ac1cf727-8651-4a91-82ba-1a6e2608db0e",
   "metadata": {},
   "outputs": [
    {
     "data": {
      "text/plain": [
       "(5299, 146913)"
      ]
     },
     "execution_count": 58,
     "metadata": {},
     "output_type": "execute_result"
    }
   ],
   "source": [
    "X_train.shape"
   ]
  },
  {
   "cell_type": "code",
   "execution_count": 59,
   "id": "91313a30-9083-4855-ba4d-65c8c234b0d8",
   "metadata": {},
   "outputs": [
    {
     "data": {
      "text/plain": [
       "<5299x146913 sparse matrix of type '<class 'numpy.float64'>'\n",
       "\twith 4618391 stored elements in Compressed Sparse Row format>"
      ]
     },
     "execution_count": 59,
     "metadata": {},
     "output_type": "execute_result"
    }
   ],
   "source": [
    "X_train"
   ]
  },
  {
   "cell_type": "code",
   "execution_count": 60,
   "id": "e32ad013-4694-45be-8343-569d2fe127c9",
   "metadata": {},
   "outputs": [
    {
     "name": "stdout",
     "output_type": "stream",
     "text": [
      "[2 2 0 ... 1 2 2]\n"
     ]
    }
   ],
   "source": [
    "print(y_train)"
   ]
  },
  {
   "cell_type": "code",
   "execution_count": 61,
   "id": "5e337210-7262-4842-a95b-332a7c72d4fc",
   "metadata": {},
   "outputs": [],
   "source": [
    "# Perform the TfidfVectorizer transformation\n",
    "# Be careful: We are using the train fit to transform the test data set. Otherwise, the test data \n",
    "# features will be very different and match the train set!!!\n",
    "\n",
    "X_test = tfidf_vect.transform(X_test)"
   ]
  },
  {
   "cell_type": "code",
   "execution_count": 62,
   "id": "997f932b-9b8e-47e0-ba6e-2a3fab997ec6",
   "metadata": {},
   "outputs": [
    {
     "data": {
      "text/plain": [
       "((5299, 146913), (2271, 146913))"
      ]
     },
     "execution_count": 62,
     "metadata": {},
     "output_type": "execute_result"
    }
   ],
   "source": [
    "X_train.shape, X_test.shape"
   ]
  },
  {
   "cell_type": "code",
   "execution_count": 63,
   "id": "eb50dabd-1666-49b1-aec4-907de1aa4df7",
   "metadata": {},
   "outputs": [
    {
     "name": "stdout",
     "output_type": "stream",
     "text": [
      "[[0. 0. 0. ... 0. 0. 0.]\n",
      " [0. 0. 0. ... 0. 0. 0.]\n",
      " [0. 0. 0. ... 0. 0. 0.]\n",
      " ...\n",
      " [0. 0. 0. ... 0. 0. 0.]\n",
      " [0. 0. 0. ... 0. 0. 0.]\n",
      " [0. 0. 0. ... 0. 0. 0.]]\n"
     ]
    }
   ],
   "source": [
    "# These data sets are \"sparse matrix\". We can't see them unless we convert using toarray()\n",
    "np.set_printoptions(precision=3)\n",
    "print(X_train.todense())"
   ]
  },
  {
   "cell_type": "markdown",
   "id": "17697994-56f0-41f7-8f10-2ab28332ad72",
   "metadata": {},
   "source": [
    "## Latent Semantic Analysis (Singular Value Decomposition)"
   ]
  },
  {
   "cell_type": "code",
   "execution_count": 64,
   "id": "1dbfd93e-4b20-4760-b07e-0fe88966f0cc",
   "metadata": {},
   "outputs": [],
   "source": [
    "svd = TruncatedSVD(n_components=1000, n_iter=10) #n_components is the number of topics, which should be less than the number of features, and number of rows in the matrix\n",
    "\n",
    "X_train_dim_reduct = svd.fit_transform(X_train)\n",
    "X_test__dim_reduct = svd.transform(X_test)"
   ]
  },
  {
   "cell_type": "code",
   "execution_count": 65,
   "id": "24586354-d8db-4f0b-9ee5-ce3d46b43275",
   "metadata": {},
   "outputs": [
    {
     "data": {
      "text/plain": [
       "((5299, 146913), (2271, 146913))"
      ]
     },
     "execution_count": 65,
     "metadata": {},
     "output_type": "execute_result"
    }
   ],
   "source": [
    "X_train.shape, X_test.shape"
   ]
  },
  {
   "cell_type": "code",
   "execution_count": 66,
   "id": "63d748f1-77bb-42b6-895a-5a6f28578566",
   "metadata": {},
   "outputs": [
    {
     "data": {
      "text/plain": [
       "((5299, 1000), (2271, 1000))"
      ]
     },
     "execution_count": 66,
     "metadata": {},
     "output_type": "execute_result"
    }
   ],
   "source": [
    "X_train_dim_reduct.shape, X_test__dim_reduct.shape"
   ]
  },
  {
   "cell_type": "code",
   "execution_count": 67,
   "id": "4842fb08-d920-47bb-978b-67b4118cfcac",
   "metadata": {},
   "outputs": [
    {
     "data": {
      "text/plain": [
       "array([[ 2.550e-01, -1.925e-01, -2.679e-02, ..., -1.010e-17, -6.370e-19,\n",
       "        -5.235e-19],\n",
       "       [ 2.006e-01, -1.350e-01,  5.901e-02, ...,  1.711e-18, -1.891e-18,\n",
       "         2.799e-19],\n",
       "       [ 2.569e-01,  1.239e-01,  6.563e-03, ..., -2.301e-18,  3.029e-18,\n",
       "         6.012e-19],\n",
       "       ...,\n",
       "       [ 1.114e-01, -9.912e-02, -5.861e-02, ..., -7.776e-19,  5.557e-19,\n",
       "         3.608e-19],\n",
       "       [ 1.721e-01, -1.825e-01, -5.620e-02, ..., -1.857e-18, -9.699e-19,\n",
       "        -7.729e-19],\n",
       "       [ 2.244e-01, -2.165e-01, -1.257e-01, ...,  1.225e-18,  3.793e-18,\n",
       "         1.271e-19]])"
      ]
     },
     "execution_count": 67,
     "metadata": {},
     "output_type": "execute_result"
    }
   ],
   "source": [
    "X_train_dim_reduct"
   ]
  },
  {
   "cell_type": "code",
   "execution_count": 68,
   "id": "d7f88f79-ffc3-47dc-a8db-2b952cb2942d",
   "metadata": {},
   "outputs": [
    {
     "data": {
      "text/html": [
       "<div>\n",
       "<style scoped>\n",
       "    .dataframe tbody tr th:only-of-type {\n",
       "        vertical-align: middle;\n",
       "    }\n",
       "\n",
       "    .dataframe tbody tr th {\n",
       "        vertical-align: top;\n",
       "    }\n",
       "\n",
       "    .dataframe thead th {\n",
       "        text-align: right;\n",
       "    }\n",
       "</style>\n",
       "<table border=\"1\" class=\"dataframe\">\n",
       "  <thead>\n",
       "    <tr style=\"text-align: right;\">\n",
       "      <th></th>\n",
       "      <th>svd0000</th>\n",
       "      <th>svd0001</th>\n",
       "      <th>svd0002</th>\n",
       "      <th>svd0003</th>\n",
       "      <th>svd0004</th>\n",
       "      <th>svd0005</th>\n",
       "      <th>svd0006</th>\n",
       "      <th>svd0007</th>\n",
       "      <th>svd0008</th>\n",
       "      <th>svd0009</th>\n",
       "      <th>...</th>\n",
       "      <th>svd0990</th>\n",
       "      <th>svd0991</th>\n",
       "      <th>svd0992</th>\n",
       "      <th>svd0993</th>\n",
       "      <th>svd0994</th>\n",
       "      <th>svd0995</th>\n",
       "      <th>svd0996</th>\n",
       "      <th>svd0997</th>\n",
       "      <th>svd0998</th>\n",
       "      <th>svd0999</th>\n",
       "    </tr>\n",
       "  </thead>\n",
       "  <tbody>\n",
       "    <tr>\n",
       "      <th>0</th>\n",
       "      <td>0.255006</td>\n",
       "      <td>-0.192515</td>\n",
       "      <td>-0.026789</td>\n",
       "      <td>-0.052189</td>\n",
       "      <td>0.050459</td>\n",
       "      <td>-0.048633</td>\n",
       "      <td>-0.119539</td>\n",
       "      <td>0.004981</td>\n",
       "      <td>-0.127498</td>\n",
       "      <td>0.044542</td>\n",
       "      <td>...</td>\n",
       "      <td>4.348667e-18</td>\n",
       "      <td>1.159376e-18</td>\n",
       "      <td>-6.423898e-18</td>\n",
       "      <td>2.270895e-18</td>\n",
       "      <td>-2.930734e-18</td>\n",
       "      <td>5.484538e-18</td>\n",
       "      <td>-8.401085e-18</td>\n",
       "      <td>-1.010341e-17</td>\n",
       "      <td>-6.369688e-19</td>\n",
       "      <td>-5.234664e-19</td>\n",
       "    </tr>\n",
       "    <tr>\n",
       "      <th>1</th>\n",
       "      <td>0.200552</td>\n",
       "      <td>-0.134990</td>\n",
       "      <td>0.059012</td>\n",
       "      <td>0.057925</td>\n",
       "      <td>0.115033</td>\n",
       "      <td>-0.067425</td>\n",
       "      <td>-0.171991</td>\n",
       "      <td>0.103636</td>\n",
       "      <td>-0.086807</td>\n",
       "      <td>-0.050263</td>\n",
       "      <td>...</td>\n",
       "      <td>6.112402e-19</td>\n",
       "      <td>2.373439e-18</td>\n",
       "      <td>-4.861969e-19</td>\n",
       "      <td>-1.304219e-18</td>\n",
       "      <td>-4.936085e-19</td>\n",
       "      <td>-7.580945e-19</td>\n",
       "      <td>1.821809e-18</td>\n",
       "      <td>1.711430e-18</td>\n",
       "      <td>-1.891001e-18</td>\n",
       "      <td>2.799444e-19</td>\n",
       "    </tr>\n",
       "    <tr>\n",
       "      <th>2</th>\n",
       "      <td>0.256894</td>\n",
       "      <td>0.123914</td>\n",
       "      <td>0.006563</td>\n",
       "      <td>0.017838</td>\n",
       "      <td>0.034257</td>\n",
       "      <td>-0.052455</td>\n",
       "      <td>-0.031224</td>\n",
       "      <td>0.008566</td>\n",
       "      <td>-0.012628</td>\n",
       "      <td>-0.047267</td>\n",
       "      <td>...</td>\n",
       "      <td>-1.706771e-19</td>\n",
       "      <td>3.752991e-18</td>\n",
       "      <td>-2.820620e-19</td>\n",
       "      <td>6.547565e-19</td>\n",
       "      <td>3.769297e-19</td>\n",
       "      <td>-1.221422e-18</td>\n",
       "      <td>-2.630037e-19</td>\n",
       "      <td>-2.300541e-18</td>\n",
       "      <td>3.028566e-18</td>\n",
       "      <td>6.011816e-19</td>\n",
       "    </tr>\n",
       "    <tr>\n",
       "      <th>3</th>\n",
       "      <td>0.246648</td>\n",
       "      <td>0.056840</td>\n",
       "      <td>0.283670</td>\n",
       "      <td>-0.106647</td>\n",
       "      <td>-0.161781</td>\n",
       "      <td>0.110875</td>\n",
       "      <td>0.079654</td>\n",
       "      <td>0.109008</td>\n",
       "      <td>-0.068634</td>\n",
       "      <td>0.059235</td>\n",
       "      <td>...</td>\n",
       "      <td>1.351335e-18</td>\n",
       "      <td>3.550868e-18</td>\n",
       "      <td>-4.031877e-19</td>\n",
       "      <td>-1.422380e-18</td>\n",
       "      <td>4.411348e-18</td>\n",
       "      <td>4.220342e-19</td>\n",
       "      <td>-6.747147e-19</td>\n",
       "      <td>2.729564e-19</td>\n",
       "      <td>-1.971893e-18</td>\n",
       "      <td>-1.929541e-18</td>\n",
       "    </tr>\n",
       "    <tr>\n",
       "      <th>4</th>\n",
       "      <td>0.341544</td>\n",
       "      <td>-0.062512</td>\n",
       "      <td>-0.105005</td>\n",
       "      <td>-0.003511</td>\n",
       "      <td>-0.095237</td>\n",
       "      <td>-0.058888</td>\n",
       "      <td>0.044454</td>\n",
       "      <td>0.130150</td>\n",
       "      <td>0.081088</td>\n",
       "      <td>-0.035827</td>\n",
       "      <td>...</td>\n",
       "      <td>-2.038385e-18</td>\n",
       "      <td>-1.748488e-18</td>\n",
       "      <td>-1.473837e-18</td>\n",
       "      <td>4.972083e-19</td>\n",
       "      <td>-4.226694e-18</td>\n",
       "      <td>-3.981902e-18</td>\n",
       "      <td>1.897777e-18</td>\n",
       "      <td>-7.480995e-18</td>\n",
       "      <td>8.046813e-19</td>\n",
       "      <td>5.202476e-18</td>\n",
       "    </tr>\n",
       "    <tr>\n",
       "      <th>...</th>\n",
       "      <td>...</td>\n",
       "      <td>...</td>\n",
       "      <td>...</td>\n",
       "      <td>...</td>\n",
       "      <td>...</td>\n",
       "      <td>...</td>\n",
       "      <td>...</td>\n",
       "      <td>...</td>\n",
       "      <td>...</td>\n",
       "      <td>...</td>\n",
       "      <td>...</td>\n",
       "      <td>...</td>\n",
       "      <td>...</td>\n",
       "      <td>...</td>\n",
       "      <td>...</td>\n",
       "      <td>...</td>\n",
       "      <td>...</td>\n",
       "      <td>...</td>\n",
       "      <td>...</td>\n",
       "      <td>...</td>\n",
       "      <td>...</td>\n",
       "    </tr>\n",
       "    <tr>\n",
       "      <th>5294</th>\n",
       "      <td>0.295400</td>\n",
       "      <td>0.065347</td>\n",
       "      <td>-0.057038</td>\n",
       "      <td>-0.069769</td>\n",
       "      <td>-0.003257</td>\n",
       "      <td>0.027635</td>\n",
       "      <td>-0.057453</td>\n",
       "      <td>0.083789</td>\n",
       "      <td>0.082771</td>\n",
       "      <td>-0.109756</td>\n",
       "      <td>...</td>\n",
       "      <td>-4.193342e-18</td>\n",
       "      <td>7.318365e-19</td>\n",
       "      <td>-3.434719e-18</td>\n",
       "      <td>1.409463e-18</td>\n",
       "      <td>3.184844e-19</td>\n",
       "      <td>-4.797595e-18</td>\n",
       "      <td>-1.036768e-18</td>\n",
       "      <td>-6.234162e-19</td>\n",
       "      <td>3.279712e-18</td>\n",
       "      <td>1.246832e-18</td>\n",
       "    </tr>\n",
       "    <tr>\n",
       "      <th>5295</th>\n",
       "      <td>0.130896</td>\n",
       "      <td>-0.106104</td>\n",
       "      <td>-0.007007</td>\n",
       "      <td>0.037442</td>\n",
       "      <td>0.080965</td>\n",
       "      <td>0.007979</td>\n",
       "      <td>-0.080060</td>\n",
       "      <td>0.032742</td>\n",
       "      <td>-0.024281</td>\n",
       "      <td>-0.008455</td>\n",
       "      <td>...</td>\n",
       "      <td>8.576844e-18</td>\n",
       "      <td>4.283869e-18</td>\n",
       "      <td>2.759633e-18</td>\n",
       "      <td>1.078273e-18</td>\n",
       "      <td>7.549605e-18</td>\n",
       "      <td>-1.411157e-18</td>\n",
       "      <td>6.550529e-18</td>\n",
       "      <td>1.101143e-19</td>\n",
       "      <td>-5.895349e-19</td>\n",
       "      <td>4.035265e-18</td>\n",
       "    </tr>\n",
       "    <tr>\n",
       "      <th>5296</th>\n",
       "      <td>0.111394</td>\n",
       "      <td>-0.099120</td>\n",
       "      <td>-0.058613</td>\n",
       "      <td>0.014150</td>\n",
       "      <td>-0.001003</td>\n",
       "      <td>-0.030919</td>\n",
       "      <td>0.022894</td>\n",
       "      <td>0.035235</td>\n",
       "      <td>-0.017918</td>\n",
       "      <td>0.067303</td>\n",
       "      <td>...</td>\n",
       "      <td>2.990026e-19</td>\n",
       "      <td>-1.660185e-19</td>\n",
       "      <td>-9.419006e-19</td>\n",
       "      <td>3.165786e-20</td>\n",
       "      <td>-3.879411e-19</td>\n",
       "      <td>-7.843525e-19</td>\n",
       "      <td>4.108110e-19</td>\n",
       "      <td>-7.775762e-19</td>\n",
       "      <td>5.556536e-19</td>\n",
       "      <td>3.608360e-19</td>\n",
       "    </tr>\n",
       "    <tr>\n",
       "      <th>5297</th>\n",
       "      <td>0.172087</td>\n",
       "      <td>-0.182485</td>\n",
       "      <td>-0.056198</td>\n",
       "      <td>-0.059959</td>\n",
       "      <td>0.017467</td>\n",
       "      <td>-0.084066</td>\n",
       "      <td>0.050865</td>\n",
       "      <td>-0.027330</td>\n",
       "      <td>-0.021089</td>\n",
       "      <td>0.023624</td>\n",
       "      <td>...</td>\n",
       "      <td>-6.361217e-19</td>\n",
       "      <td>1.892272e-18</td>\n",
       "      <td>-2.281907e-18</td>\n",
       "      <td>4.623106e-18</td>\n",
       "      <td>-1.922765e-18</td>\n",
       "      <td>9.656176e-20</td>\n",
       "      <td>1.492472e-18</td>\n",
       "      <td>-1.856696e-18</td>\n",
       "      <td>-9.698527e-19</td>\n",
       "      <td>-7.729176e-19</td>\n",
       "    </tr>\n",
       "    <tr>\n",
       "      <th>5298</th>\n",
       "      <td>0.224351</td>\n",
       "      <td>-0.216480</td>\n",
       "      <td>-0.125722</td>\n",
       "      <td>-0.152400</td>\n",
       "      <td>-0.055491</td>\n",
       "      <td>-0.016555</td>\n",
       "      <td>0.020151</td>\n",
       "      <td>-0.085354</td>\n",
       "      <td>-0.014994</td>\n",
       "      <td>0.021807</td>\n",
       "      <td>...</td>\n",
       "      <td>-9.368184e-19</td>\n",
       "      <td>1.011357e-18</td>\n",
       "      <td>1.046933e-18</td>\n",
       "      <td>1.612751e-18</td>\n",
       "      <td>3.740497e-18</td>\n",
       "      <td>3.964114e-19</td>\n",
       "      <td>1.970199e-18</td>\n",
       "      <td>1.224810e-18</td>\n",
       "      <td>3.793014e-18</td>\n",
       "      <td>1.270549e-19</td>\n",
       "    </tr>\n",
       "  </tbody>\n",
       "</table>\n",
       "<p>5299 rows × 1000 columns</p>\n",
       "</div>"
      ],
      "text/plain": [
       "       svd0000   svd0001   svd0002   svd0003   svd0004   svd0005   svd0006  \\\n",
       "0     0.255006 -0.192515 -0.026789 -0.052189  0.050459 -0.048633 -0.119539   \n",
       "1     0.200552 -0.134990  0.059012  0.057925  0.115033 -0.067425 -0.171991   \n",
       "2     0.256894  0.123914  0.006563  0.017838  0.034257 -0.052455 -0.031224   \n",
       "3     0.246648  0.056840  0.283670 -0.106647 -0.161781  0.110875  0.079654   \n",
       "4     0.341544 -0.062512 -0.105005 -0.003511 -0.095237 -0.058888  0.044454   \n",
       "...        ...       ...       ...       ...       ...       ...       ...   \n",
       "5294  0.295400  0.065347 -0.057038 -0.069769 -0.003257  0.027635 -0.057453   \n",
       "5295  0.130896 -0.106104 -0.007007  0.037442  0.080965  0.007979 -0.080060   \n",
       "5296  0.111394 -0.099120 -0.058613  0.014150 -0.001003 -0.030919  0.022894   \n",
       "5297  0.172087 -0.182485 -0.056198 -0.059959  0.017467 -0.084066  0.050865   \n",
       "5298  0.224351 -0.216480 -0.125722 -0.152400 -0.055491 -0.016555  0.020151   \n",
       "\n",
       "       svd0007   svd0008   svd0009  ...       svd0990       svd0991  \\\n",
       "0     0.004981 -0.127498  0.044542  ...  4.348667e-18  1.159376e-18   \n",
       "1     0.103636 -0.086807 -0.050263  ...  6.112402e-19  2.373439e-18   \n",
       "2     0.008566 -0.012628 -0.047267  ... -1.706771e-19  3.752991e-18   \n",
       "3     0.109008 -0.068634  0.059235  ...  1.351335e-18  3.550868e-18   \n",
       "4     0.130150  0.081088 -0.035827  ... -2.038385e-18 -1.748488e-18   \n",
       "...        ...       ...       ...  ...           ...           ...   \n",
       "5294  0.083789  0.082771 -0.109756  ... -4.193342e-18  7.318365e-19   \n",
       "5295  0.032742 -0.024281 -0.008455  ...  8.576844e-18  4.283869e-18   \n",
       "5296  0.035235 -0.017918  0.067303  ...  2.990026e-19 -1.660185e-19   \n",
       "5297 -0.027330 -0.021089  0.023624  ... -6.361217e-19  1.892272e-18   \n",
       "5298 -0.085354 -0.014994  0.021807  ... -9.368184e-19  1.011357e-18   \n",
       "\n",
       "           svd0992       svd0993       svd0994       svd0995       svd0996  \\\n",
       "0    -6.423898e-18  2.270895e-18 -2.930734e-18  5.484538e-18 -8.401085e-18   \n",
       "1    -4.861969e-19 -1.304219e-18 -4.936085e-19 -7.580945e-19  1.821809e-18   \n",
       "2    -2.820620e-19  6.547565e-19  3.769297e-19 -1.221422e-18 -2.630037e-19   \n",
       "3    -4.031877e-19 -1.422380e-18  4.411348e-18  4.220342e-19 -6.747147e-19   \n",
       "4    -1.473837e-18  4.972083e-19 -4.226694e-18 -3.981902e-18  1.897777e-18   \n",
       "...            ...           ...           ...           ...           ...   \n",
       "5294 -3.434719e-18  1.409463e-18  3.184844e-19 -4.797595e-18 -1.036768e-18   \n",
       "5295  2.759633e-18  1.078273e-18  7.549605e-18 -1.411157e-18  6.550529e-18   \n",
       "5296 -9.419006e-19  3.165786e-20 -3.879411e-19 -7.843525e-19  4.108110e-19   \n",
       "5297 -2.281907e-18  4.623106e-18 -1.922765e-18  9.656176e-20  1.492472e-18   \n",
       "5298  1.046933e-18  1.612751e-18  3.740497e-18  3.964114e-19  1.970199e-18   \n",
       "\n",
       "           svd0997       svd0998       svd0999  \n",
       "0    -1.010341e-17 -6.369688e-19 -5.234664e-19  \n",
       "1     1.711430e-18 -1.891001e-18  2.799444e-19  \n",
       "2    -2.300541e-18  3.028566e-18  6.011816e-19  \n",
       "3     2.729564e-19 -1.971893e-18 -1.929541e-18  \n",
       "4    -7.480995e-18  8.046813e-19  5.202476e-18  \n",
       "...            ...           ...           ...  \n",
       "5294 -6.234162e-19  3.279712e-18  1.246832e-18  \n",
       "5295  1.101143e-19 -5.895349e-19  4.035265e-18  \n",
       "5296 -7.775762e-19  5.556536e-19  3.608360e-19  \n",
       "5297 -1.856696e-18 -9.698527e-19 -7.729176e-19  \n",
       "5298  1.224810e-18  3.793014e-18  1.270549e-19  \n",
       "\n",
       "[5299 rows x 1000 columns]"
      ]
     },
     "execution_count": 68,
     "metadata": {},
     "output_type": "execute_result"
    }
   ],
   "source": [
    "df = pd.DataFrame(X_train_dim_reduct, columns=[f\"svd{num:04}\" for num in range(0,X_train_dim_reduct.shape[1])])\n",
    "df\n"
   ]
  },
  {
   "cell_type": "code",
   "execution_count": null,
   "id": "6b4d3648-5995-4ce0-bac8-fbbe6e254d5f",
   "metadata": {},
   "outputs": [],
   "source": []
  },
  {
   "cell_type": "code",
   "execution_count": null,
   "id": "fa8d32ea-9650-4c2c-8554-2f22793b6882",
   "metadata": {},
   "outputs": [],
   "source": []
  }
 ],
 "metadata": {
  "kernelspec": {
   "display_name": "Python 3 (ipykernel)",
   "language": "python",
   "name": "python3"
  },
  "language_info": {
   "codemirror_mode": {
    "name": "ipython",
    "version": 3
   },
   "file_extension": ".py",
   "mimetype": "text/x-python",
   "name": "python",
   "nbconvert_exporter": "python",
   "pygments_lexer": "ipython3",
   "version": "3.11.8"
  }
 },
 "nbformat": 4,
 "nbformat_minor": 5
}
